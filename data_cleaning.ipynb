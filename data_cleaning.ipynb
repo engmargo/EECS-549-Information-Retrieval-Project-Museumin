{
 "cells": [
  {
   "cell_type": "code",
   "execution_count": 2,
   "metadata": {},
   "outputs": [],
   "source": [
    "import json \n",
    "import numpy as np\n",
    "import sys"
   ]
  },
  {
   "cell_type": "markdown",
   "metadata": {},
   "source": [
    "## merge museum metadata"
   ]
  },
  {
   "cell_type": "code",
   "execution_count": 8,
   "metadata": {},
   "outputs": [],
   "source": [
    "# read file\n",
    "def read_file(file_name:str)->list[dict]:\n",
    "    '''\n",
    "    read the file \n",
    "    \n",
    "    args:\n",
    "        file_name:str, json format\n",
    "    '''\n",
    "    \n",
    "    data =[]\n",
    "    with open(file_name,'rt') as f:\n",
    "        for line in f:\n",
    "            data.append(json.loads(line))\n",
    "    \n",
    "    return data"
   ]
  },
  {
   "cell_type": "markdown",
   "metadata": {},
   "source": [
    "### wikipedia"
   ]
  },
  {
   "cell_type": "code",
   "execution_count": null,
   "metadata": {},
   "outputs": [],
   "source": [
    "# wiki_filename_olist = './data_1101/wikipedia_museum_list.jsonl'\n",
    "# wiki_filename_alist = './data_1101/wikipedia_added_list.jsonl'\n",
    "# wiki_lists = read_file(wiki_filename_olist)\n",
    "# wiki_lists.extend(read_file(wiki_filename_alist))\n",
    "\n",
    "# with open('wikipedia_museum_list_merged.jsonl','wt') as f:\n",
    "#     for museum in wiki_lists:\n",
    "#         f.write(json.dumps(museum)+'\\n')"
   ]
  },
  {
   "cell_type": "code",
   "execution_count": 9,
   "metadata": {},
   "outputs": [],
   "source": [
    "wiki_filename_list = './data_1101/wikipedia_museum_list_merged.jsonl'\n",
    "wiki_filename_articles = './data_1101/wikipedia_museum_articles3.jsnol'\n",
    "wmuseum_filename = './data_1101/which_museum_museum_info.jsonl'"
   ]
  },
  {
   "cell_type": "code",
   "execution_count": 10,
   "metadata": {},
   "outputs": [],
   "source": [
    "#read file \n",
    "wiki_list = read_file(wiki_filename_list)\n",
    "wiki_articles = read_file(wiki_filename_articles)"
   ]
  },
  {
   "cell_type": "code",
   "execution_count": 17,
   "metadata": {},
   "outputs": [],
   "source": [
    "# reconstruct list dictionary\n",
    "\n",
    "# museum_ids = [museum['museum_id'] for museum in wiki_articles]\n",
    "# wikipedia_museum_lists_merged =[]\n",
    "# for museum in wiki_lists:\n",
    "#     if museum['museum_id'] in museum_ids:\n",
    "#         wikipedia_museum_lists_merged.append(museum)\n",
    "# with open('wikipedia_museum_list_merge.jsonl','wt') as f:\n",
    "#     for museum in wikipedia_museum_lists_merged:\n",
    "#         f.write(json.dumps(museum)+'\\n')"
   ]
  },
  {
   "cell_type": "code",
   "execution_count": 367,
   "metadata": {},
   "outputs": [],
   "source": [
    "# keysset =set()\n",
    "\n",
    "# for museum in wiki_list:\n",
    "#     keys ='/'.join(list(museum.keys())[2:])\n",
    "#     keysset.add(keys)\n",
    "# with open('keyset.csv','wt') as f:\n",
    "#     for key in keysset:\n",
    "#         f.write(key+'\\n')\n",
    "\n",
    "# keysset"
   ]
  },
  {
   "cell_type": "code",
   "execution_count": 54,
   "metadata": {},
   "outputs": [],
   "source": [
    "# with open('keyset.csv','wt') as f:\n",
    "#     for line in keysset:\n",
    "#         f.write(line+'\\n')"
   ]
  },
  {
   "cell_type": "code",
   "execution_count": 12,
   "metadata": {},
   "outputs": [],
   "source": [
    "def reconstruct_wiki_list(museum:dict[str,str])->dict[str,dict]:\n",
    "    ''' \n",
    "    reconstruct wiki list to set the museum as key\n",
    "    \n",
    "    args:\n",
    "        museum:dict[str,str], directly from wiki_list\n",
    "    '''\n",
    "    \n",
    "    new_museum = {}\n",
    "    for key,value in museum.items():\n",
    "        key = key.lower()\n",
    "        if 'name' in key:\n",
    "            name = value[1]  #use url as key, since some museums share the same name but are actually different\n",
    "        if key in ['museum_state']:\n",
    "            new_museum[key] = value\n",
    "        elif 'image' in key:\n",
    "            new_museum['museum_wiki_image'] = value[1]\n",
    "        elif key in ['type','subject','area of study']:\n",
    "            new_museum['category'] = value[0]\n",
    "        elif key in ['notes','summary']:\n",
    "            new_museum['museum_wiki_decription'] = value[0]\n",
    "        else:\n",
    "            pass\n",
    "        \n",
    "    return {name:new_museum}"
   ]
  },
  {
   "cell_type": "code",
   "execution_count": 13,
   "metadata": {},
   "outputs": [],
   "source": [
    "new_wiki_list ={}\n",
    "for idx,museum in enumerate(wiki_list):\n",
    "    new_wiki_list.update(reconstruct_wiki_list(museum))\n"
   ]
  },
  {
   "cell_type": "code",
   "execution_count": 15,
   "metadata": {},
   "outputs": [],
   "source": [
    "list_names = list(new_wiki_list.keys())"
   ]
  },
  {
   "cell_type": "code",
   "execution_count": 15,
   "metadata": {},
   "outputs": [],
   "source": [
    "def reconstruct_wiki_article(museum:dict)->dict:\n",
    "    new_museum ={}\n",
    "    others = {}\n",
    "    \n",
    "    for key,value in museum.items():\n",
    "        key = key.lower()\n",
    "\n",
    "        if key in ['museum_name','museum_url','img_url','coordinates','location','website','type']:\n",
    "            new_museum[key] = value\n",
    "        elif 'article' in key:\n",
    "            new_museum['wiki_article'] = value\n",
    "        elif ('nrhp' in key) or (key in ['museum_id']):\n",
    "            pass\n",
    "        else:\n",
    "            others[key] = value\n",
    "        \n",
    "    new_museum['other'] = others\n",
    "\n",
    "    return new_museum\n",
    "    "
   ]
  },
  {
   "cell_type": "code",
   "execution_count": 16,
   "metadata": {},
   "outputs": [],
   "source": [
    "new_wiki_articles = []\n",
    "\n",
    "for idx,museum in enumerate(wiki_articles):\n",
    "    single_museum = {'museum_id':idx}\n",
    "    single_museum.update(reconstruct_wiki_article(museum))\n",
    "    new_wiki_articles.append(single_museum)\n",
    "    "
   ]
  },
  {
   "cell_type": "code",
   "execution_count": 19,
   "metadata": {},
   "outputs": [],
   "source": [
    "museum_wiki_metadata =[]\n",
    "\n",
    "for museum in new_wiki_articles:\n",
    "    try:\n",
    "        museum.update(new_wiki_list[museum['museum_url']])\n",
    "    except KeyError:\n",
    "        print(museum)\n",
    "    \n",
    "    img_url = []\n",
    "    try:\n",
    "        url1 = museum.pop('img_url')\n",
    "        if len(url1)>0:\n",
    "            img_url.append(url1)\n",
    "    except:\n",
    "        pass\n",
    "    \n",
    "    try:\n",
    "        url2 = museum.pop('museum_wiki_image')\n",
    "        if len(url2)>0:\n",
    "            img_url.append(url2)\n",
    "    except:\n",
    "        pass\n",
    "    \n",
    "    museum['img_urls'] = img_url\n",
    "    \n",
    "    museum_wiki_metadata.append(museum)\n",
    "        "
   ]
  },
  {
   "cell_type": "code",
   "execution_count": 21,
   "metadata": {},
   "outputs": [],
   "source": [
    "with open('./data_1101/museum_wiki_metadata.jsonl','wt') as f:\n",
    "    for museum in museum_wiki_metadata:\n",
    "        f.write(json.dumps(museum)+'\\n')"
   ]
  },
  {
   "cell_type": "markdown",
   "metadata": {},
   "source": [
    "### which museum "
   ]
  },
  {
   "cell_type": "code",
   "execution_count": 22,
   "metadata": {},
   "outputs": [],
   "source": [
    "wmuseum_data = read_file(wmuseum_filename)\n",
    "wiki_museums_names = {museum['museum_name']:idx for idx,museum in enumerate(museum_wiki_metadata)}\n",
    "\n",
    "museum_metadata = []\n",
    "\n",
    "\n",
    "num = 0\n",
    "wmuseum_data2 = {}\n",
    "for museum in wmuseum_data:\n",
    "    new_museum = {}\n",
    "    for key,value in museum.items():\n",
    "        if key in ['Opening hours ', 'Admission ']:\n",
    "            for idx,ele in enumerate(museum[key]):\n",
    "                if type(museum[key]) == str:\n",
    "                    museum[key] = museum[key].strip()\n",
    "                elif type(museum[key]) == list:\n",
    "                    museum[key][idx][1] = museum[key][idx][1].strip()\n",
    "        \n",
    "        if key not in ['museum_name','wmuseum_link']:\n",
    "            new_museum[key.strip().lower()]=museum[key]        \n",
    "        \n",
    "    if museum['museum_name'] in wiki_museums_names:\n",
    "       wmuseum_data2[museum['museum_name']] = new_museum\n",
    "        "
   ]
  },
  {
   "cell_type": "markdown",
   "metadata": {},
   "source": [
    "### data fushion"
   ]
  },
  {
   "cell_type": "code",
   "execution_count": 23,
   "metadata": {},
   "outputs": [],
   "source": [
    "museum_wiki_metadata2 = []\n",
    "for museum in museum_wiki_metadata:\n",
    "    name = museum['museum_name'] \n",
    "\n",
    "    try:\n",
    "        wmimg = wmuseum_data2[name].pop('image')\n",
    "        museum['img_urls'] = museum['img_urls'].append(wmimg)\n",
    "    except KeyError:\n",
    "        pass\n",
    "\n",
    "    try:\n",
    "        museum['wm_description'] =  wmuseum_data2[name].pop('description')\n",
    "    except KeyError:\n",
    "        museum['wm_description'] =''\n",
    "\n",
    "    try:\n",
    "        museum.update(wmuseum_data2[name])\n",
    "    except KeyError:\n",
    "        pass\n",
    "    \n",
    "    museum_wiki_metadata2.append(museum)"
   ]
  },
  {
   "cell_type": "code",
   "execution_count": 34,
   "metadata": {},
   "outputs": [],
   "source": [
    "# drop duplicates\n",
    "unique_dict = {(museum['museum_name'],museum['museum_url']):museum for museum in museum_wiki_metadata2}\n",
    "new_museum_wiki_metadata2 = [value for key,value in unique_dict.items()]"
   ]
  },
  {
   "cell_type": "code",
   "execution_count": 35,
   "metadata": {},
   "outputs": [],
   "source": [
    "with open('./data_1101/museum_wiki_metadata3.jsonl','wt') as f:\n",
    "    idx = 0\n",
    "    for museum in new_museum_wiki_metadata2:\n",
    "        museum['museum_id'] = idx\n",
    "        f.write(json.dumps(museum)+'\\n')\n",
    "        idx +=1"
   ]
  },
  {
   "cell_type": "code",
   "execution_count": 93,
   "metadata": {},
   "outputs": [],
   "source": [
    "museum_wiki_metadata =[]\n",
    "with open('./data_1101/museum_wiki_metadata3.jsonl','rt') as f:\n",
    "    for line in f:\n",
    "        museum_wiki_metadata.append(json.loads(line))\n",
    "\n",
    "museum_category = []\n",
    "for museum in museum_wiki_metadata:\n",
    "    try:\n",
    "        # museum_category.append(museum['category'])\n",
    "        museum_category.append({'museum_id':museum['museum_id'],'museum_name':museum['museum_name'],'category':museum['category']})\n",
    "    except KeyError:\n",
    "        # museum_category.append('others')\n",
    "        museum_category.append({'museum_id':museum['museum_id'],'museum_name':museum['museum_name'],'category':'unknown'})"
   ]
  },
  {
   "cell_type": "code",
   "execution_count": 94,
   "metadata": {},
   "outputs": [],
   "source": [
    "filename = 'data_1101/museum_category.jsonl'\n",
    "with open(filename,'wt') as f:\n",
    "    for line in museum_category:\n",
    "        f.write(json.dumps(line)+'\\n')"
   ]
  },
  {
   "cell_type": "code",
   "execution_count": 38,
   "metadata": {},
   "outputs": [
    {
     "name": "stderr",
     "output_type": "stream",
     "text": [
      "/opt/anaconda3/envs/py3.12.3/lib/python3.12/site-packages/sentence_transformers/cross_encoder/CrossEncoder.py:13: TqdmWarning: IProgress not found. Please update jupyter and ipywidgets. See https://ipywidgets.readthedocs.io/en/stable/user_install.html\n",
      "  from tqdm.autonotebook import tqdm, trange\n"
     ]
    }
   ],
   "source": [
    "# from sentence_transformers import SentenceTransformer, util\n",
    "\n",
    "# def get_new_category(cat:str,cat20_emb,model:SentenceTransformer,cat20:list[str])->str:\n",
    "#         cat = cat.replace('-',' ').strip().lower()\n",
    "#         new_cat = []\n",
    "        \n",
    "#         if cat  =='unknown':\n",
    "#            return ['others']\n",
    "   \n",
    "#         else:\n",
    "#            for cat1 in cat20:\n",
    "#                 if cat1 in cat:\n",
    "#                     new_cat.append(cat1)\n",
    "                    \n",
    "#            if len(new_cat) ==0:\n",
    "#                cat_emb = model.encode(cat)\n",
    "#                scores = util.dot_score(cat_emb,cat20_emb)[0].cpu().tolist()\n",
    "#                scores_list = list(zip(cat20,scores))\n",
    "#                scores_list = sorted(scores_list,key = lambda x:x[1],reverse = True)\n",
    "#                new_cat.append('others')\n",
    "#                new_cat.extend([i[0] for i in scores_list[:2]])\n",
    "               \n",
    "#                new_cat = list(set(new_cat))\n",
    "        \n",
    "#            return new_cat"
   ]
  },
  {
   "cell_type": "code",
   "execution_count": 39,
   "metadata": {},
   "outputs": [
    {
     "name": "stderr",
     "output_type": "stream",
     "text": [
      "/opt/anaconda3/envs/py3.12.3/lib/python3.12/site-packages/transformers/tokenization_utils_base.py:1601: FutureWarning: `clean_up_tokenization_spaces` was not set. It will be set to `True` by default. This behavior will be depracted in transformers v4.45, and will be then set to `False` by default. For more details check this issue: https://github.com/huggingface/transformers/issues/31884\n",
      "  warnings.warn(\n",
      "100%|██████████| 5716/5716 [00:45<00:00, 125.88it/s]\n"
     ]
    }
   ],
   "source": [
    "# from tqdm import tqdm\n",
    "\n",
    "# cat20 = ['art','history','agriculture','transportation','ethnic','industry','military',\\\n",
    "#         'open-air','aviation','maritime','religious','sports','hall of fame','science','music','religious','multiple','others']\n",
    "\n",
    "# model = SentenceTransformer('sentence-transformers/msmarco-MiniLM-L12-cos-v5')\n",
    "# cat20_emb = model.encode(cat20)\n",
    "# for idx,museum in tqdm(enumerate(museum_category),total = len(museum_category)):\n",
    "# # museum = museum_category[0]\n",
    "#         new_cat = get_new_category(museum['category'],cat20_emb,model,cat20)\n",
    "#         museum['new_category'] = new_cat\n"
   ]
  },
  {
   "cell_type": "code",
   "execution_count": null,
   "metadata": {},
   "outputs": [],
   "source": [
    "# # use hugging face zero-shot model to recategorize museums\n",
    "# from transformers import pipeline \n",
    "\n",
    "#     #initialize classifier\n",
    "# classifier = pipeline(\"zero-shot-classification\",model=\"facebook/bart-large-mnli\")"
   ]
  },
  {
   "cell_type": "code",
   "execution_count": 20,
   "metadata": {},
   "outputs": [
    {
     "name": "stderr",
     "output_type": "stream",
     "text": [
      "100%|██████████| 5716/5716 [00:00<00:00, 1084187.66it/s]\n"
     ]
    }
   ],
   "source": [
    "# from tqdm import tqdm\n",
    "\n",
    "# cat20 = ['art','history','agriculture','transportation','ethnic','industry','military',\\\n",
    "#         'open-air','aviation','maritime','religious','sports','hall of fame','science','music','multiple','others']\n",
    "\n",
    "# num = 0\n",
    "# for idx,museum in tqdm(enumerate(museum_category),total = len(museum_category)):\n",
    "#         if (museum['category'] not in cat20):\n",
    "#                 num +=1\n",
    "#                 pcat  = classifier(museum['wiki_article'],cat20)\n",
    "#                 top3pcat = list(zip(pcat['labels'],pcat['scores']))[:3]\n",
    "#                 museum_wiki_metadata[idx]['pcat'] = top3pcat"
   ]
  },
  {
   "cell_type": "code",
   "execution_count": 103,
   "metadata": {},
   "outputs": [],
   "source": [
    "from collections import Counter\n",
    "\n",
    "with open('./data_1101/museum_category.jsonl','rt') as f:\n",
    "    museum_category= [json.loads(line) for line in f]\n",
    "\n",
    "counter = Counter([museum['new_category'] for museum in museum_category])\n",
    "counter = zip(counter.keys(),counter.values())\n",
    "sorted_count = sorted(counter,key = lambda x:x[1],reverse=True)"
   ]
  },
  {
   "cell_type": "code",
   "execution_count": 111,
   "metadata": {},
   "outputs": [
    {
     "data": {
      "text/plain": [
       "<Axes: title={'center': 'distribution by new category'}>"
      ]
     },
     "execution_count": 111,
     "metadata": {},
     "output_type": "execute_result"
    },
    {
     "data": {
      "image/png": "[encoded data removed]",
      "text/plain": [
       "<Figure size 800x1000 with 1 Axes>"
      ]
     },
     "metadata": {},
     "output_type": "display_data"
    }
   ],
   "source": [
    "import matplotlib.pyplot as plt\n",
    "import seaborn as sns\n",
    "\n",
    "plt.figure(figsize=(8,10))\n",
    "plt.title('distribution by new category')\n",
    "sns.barplot(x=[i[1] for i in sorted_count],y = [i[0] for i in sorted_count],orient='h')\n",
    "# plt.xticks(rotation = -90)"
   ]
  },
  {
   "cell_type": "markdown",
   "metadata": {},
   "source": [
    "## ⚠️ invalid: 1122 recatogrization"
   ]
  },
  {
   "cell_type": "code",
   "execution_count": 95,
   "metadata": {},
   "outputs": [],
   "source": [
    "import json\n",
    "import csv\n",
    "\n",
    "filename = 'data_1101/cats1122.csv'\n",
    "old2new = {}\n",
    "with open(filename,'rt') as f:\n",
    "    reader = csv.reader(f)\n",
    "    for idx,item in enumerate(reader):\n",
    "        if idx ==0 :\n",
    "            pass\n",
    "        else:\n",
    "            old2new[item[1]] = item[0]"
   ]
  },
  {
   "cell_type": "code",
   "execution_count": 96,
   "metadata": {},
   "outputs": [],
   "source": [
    "filename = 'data_1101/museum_category.jsonl'\n",
    "oldcats = []\n",
    "with open(filename,'rt') as f:\n",
    "    for line in f:\n",
    "        oldcats.append(json.loads(line)['category'])\n",
    "    "
   ]
  },
  {
   "cell_type": "code",
   "execution_count": 97,
   "metadata": {},
   "outputs": [],
   "source": [
    "from sentence_transformers import CrossEncoder\n",
    "catnomt = [cat for cat in oldcats if (cat not in old2new)and(cat!='unknown')]\n"
   ]
  },
  {
   "cell_type": "code",
   "execution_count": 98,
   "metadata": {},
   "outputs": [],
   "source": [
    "with open('check2.txt','wt') as f:\n",
    "    for value in list(set(old2new.values())):\n",
    "        f.write(value+'\\n')\n"
   ]
  },
  {
   "cell_type": "code",
   "execution_count": 99,
   "metadata": {},
   "outputs": [],
   "source": [
    "import csv\n",
    "\n",
    "# read manul mapping list\n",
    "with open('data_1101/map2.csv','rt') as f:\n",
    "    reader = csv.reader(f)\n",
    "    for lin in reader:\n",
    "        map2 = [line[0].strip() for line in reader]\n",
    "\n",
    "oldcats = list(set(catnomt))\n",
    "oldcats.pop(0)\n",
    "\n",
    "for old,new in zip(oldcats,map2):\n",
    "    if old in old2new:\n",
    "        print(old)\n",
    "        raise ValueError(f'{old} already exists')\n",
    "    else:\n",
    "        old2new[old] = new"
   ]
  },
  {
   "cell_type": "code",
   "execution_count": 100,
   "metadata": {},
   "outputs": [],
   "source": [
    "newdt = []\n",
    "with open(filename,'rt') as f:\n",
    "    for line in f:\n",
    "        data = json.loads(line)\n",
    "        if data['category'] in ['unknown','']:\n",
    "            data['new_category'] = 'unknown'\n",
    "        else:\n",
    "            data['new_category'] = old2new[data['category']]\n",
    "            \n",
    "        newdt.append(data)\n"
   ]
  },
  {
   "cell_type": "code",
   "execution_count": 101,
   "metadata": {},
   "outputs": [
    {
     "data": {
      "text/plain": [
       "Counter({'Historic Sites and Buildings': 1411,\n",
       "         'History and Heritage': 1113,\n",
       "         'Art and Culture': 822,\n",
       "         'Science and Nature': 421,\n",
       "         'Miscellaneous and Leisure': 407,\n",
       "         'Military and Warfare': 388,\n",
       "         'Transportation and Technology': 344,\n",
       "         'Living History': 217,\n",
       "         'Sports and Leisure': 140,\n",
       "         'Ethnic and Cultural Heritage': 126,\n",
       "         'Society, Institutions, and Law': 122,\n",
       "         'Industry and Commerce': 109,\n",
       "         'unknown': 81,\n",
       "         'Society Institutions and Law': 15})"
      ]
     },
     "execution_count": 101,
     "metadata": {},
     "output_type": "execute_result"
    }
   ],
   "source": [
    "cats = [line['new_category'] for line in newdt]\n",
    "Counter(cats)"
   ]
  },
  {
   "cell_type": "code",
   "execution_count": 102,
   "metadata": {},
   "outputs": [],
   "source": [
    "with open (filename,'wt') as f:\n",
    "    for line in newdt:\n",
    "        f.write(json.dumps(line)+'\\n')"
   ]
  },
  {
   "cell_type": "code",
   "execution_count": null,
   "metadata": {},
   "outputs": [],
   "source": []
  }
 ],
 "metadata": {
  "kernelspec": {
   "display_name": "py3.12.3",
   "language": "python",
   "name": "python3"
  },
  "language_info": {
   "codemirror_mode": {
    "name": "ipython",
    "version": 3
   },
   "file_extension": ".py",
   "mimetype": "text/x-python",
   "name": "python",
   "nbconvert_exporter": "python",
   "pygments_lexer": "ipython3",
   "version": "3.12.3"
  }
 },
 "nbformat": 4,
 "nbformat_minor": 2
}
